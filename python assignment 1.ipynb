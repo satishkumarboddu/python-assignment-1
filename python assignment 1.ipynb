{
 "cells": [
  {
   "cell_type": "code",
   "execution_count": 94,
   "metadata": {},
   "outputs": [
    {
     "name": "stdout",
     "output_type": "stream",
     "text": [
      "2,030\n",
      "2,065\n",
      "2,100\n",
      "2,135\n",
      "2,170\n",
      "2,205\n",
      "2,240\n",
      "2,275\n",
      "2,310\n",
      "2,345\n",
      "2,380\n",
      "2,415\n",
      "2,450\n",
      "2,485\n",
      "2,520\n",
      "2,555\n",
      "2,590\n",
      "2,625\n",
      "2,660\n",
      "2,695\n",
      "2,730\n",
      "2,765\n",
      "2,800\n",
      "2,835\n",
      "2,870\n",
      "2,905\n",
      "2,940\n",
      "2,975\n"
     ]
    }
   ],
   "source": [
    "for i in range(2000,3001):\n",
    "    a=i\n",
    "    if (a % 7 == 0) and (a % 5 ==0):\n",
    "        print(\"{:,}\".format(a))"
   ]
  },
  {
   "cell_type": "code",
   "execution_count": 19,
   "metadata": {},
   "outputs": [
    {
     "data": {
      "text/plain": [
       "('hsitas', 'ramuk')"
      ]
     },
     "execution_count": 19,
     "metadata": {},
     "output_type": "execute_result"
    }
   ],
   "source": [
    "a = \"satish\"\n",
    "b=\"kumar\"\n",
    "a[::-1], b[::-1]"
   ]
  },
  {
   "cell_type": "code",
   "execution_count": 22,
   "metadata": {},
   "outputs": [
    {
     "name": "stdout",
     "output_type": "stream",
     "text": [
      "The volume of the sphere is:  904.7786842338603\n"
     ]
    }
   ],
   "source": [
    "import math\n",
    "pi = math.pi\n",
    "r= 6.0\n",
    "V= 4.0/3.0*pi* r**3\n",
    "print('The volume of the sphere is: ',V)"
   ]
  },
  {
   "cell_type": "code",
   "execution_count": null,
   "metadata": {},
   "outputs": [],
   "source": []
  }
 ],
 "metadata": {
  "kernelspec": {
   "display_name": "Python 3",
   "language": "python",
   "name": "python3"
  },
  "language_info": {
   "codemirror_mode": {
    "name": "ipython",
    "version": 3
   },
   "file_extension": ".py",
   "mimetype": "text/x-python",
   "name": "python",
   "nbconvert_exporter": "python",
   "pygments_lexer": "ipython3",
   "version": "3.7.6"
  }
 },
 "nbformat": 4,
 "nbformat_minor": 4
}
